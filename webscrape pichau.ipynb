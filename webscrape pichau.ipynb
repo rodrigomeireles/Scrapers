{
 "cells": [
  {
   "cell_type": "markdown",
   "metadata": {},
   "source": [
    "## Setup Inicial"
   ]
  },
  {
   "cell_type": "code",
   "execution_count": 48,
   "metadata": {},
   "outputs": [],
   "source": [
    "import bs4\n",
    "\n",
    "from urllib.request import Request, urlopen\n",
    "\n",
    "from bs4 import BeautifulSoup as soup\n",
    "\n",
    "my_url = 'https://www.pichau.com.br/hardware/placa-de-video?p=1'\n",
    "\n",
    "req = Request(my_url, headers={'User-Agent': 'Mozilla/5.0'})\n",
    "\n",
    "uClient = urlopen(req)\n",
    "page_html = uClient.read()"
   ]
  },
  {
   "cell_type": "markdown",
   "metadata": {},
   "source": [
    "## html parser"
   ]
  },
  {
   "cell_type": "code",
   "execution_count": 49,
   "metadata": {},
   "outputs": [],
   "source": [
    "page_soup = soup(page_html, \"html.parser\")"
   ]
  },
  {
   "cell_type": "markdown",
   "metadata": {},
   "source": [
    "## Pegar todos os produtos."
   ]
  },
  {
   "cell_type": "code",
   "execution_count": 50,
   "metadata": {},
   "outputs": [
    {
     "data": {
      "text/plain": [
       "16"
      ]
     },
     "execution_count": 50,
     "metadata": {},
     "output_type": "execute_result"
    }
   ],
   "source": [
    "containers = page_soup.findAll(\"li\", {\"class\":\"item\"})\n",
    "len(containers)"
   ]
  },
  {
   "cell_type": "markdown",
   "metadata": {},
   "source": [
    "## Abre um arquivo .csv para que possamos montá-lo."
   ]
  },
  {
   "cell_type": "code",
   "execution_count": 51,
   "metadata": {},
   "outputs": [
    {
     "data": {
      "text/plain": [
       "24"
      ]
     },
     "execution_count": 51,
     "metadata": {},
     "output_type": "execute_result"
    }
   ],
   "source": [
    "filename = \"Pichau_Placas.csv\"\n",
    "f = open(filename, \"w\")\n",
    "\n",
    "headers = \"Nome, Parcelado, Boleto\\n\"\n",
    "f.write(headers)"
   ]
  },
  {
   "cell_type": "markdown",
   "metadata": {},
   "source": [
    "# Criar um loop para resgatar cada produto individualmente, seu nome, seu preço parcelado e seu preço à vista e os envia para o arquivo .csv. Também imprime os dados para que possamos visualizar as strings."
   ]
  },
  {
   "cell_type": "code",
   "execution_count": 52,
   "metadata": {},
   "outputs": [
    {
     "name": "stdout",
     "output_type": "stream",
     "text": [
      "Nome: Placa de Vídeo ZOTAC GeForce GTX 1060 6GB AMP! Edition, ZT-P10600B-10M\n",
      "Preço parcelado: 10x de R$ 167,03\n",
      "Preço à vista: à vista R$ 1.469,88\n",
      "\n",
      "\n",
      "Nome: Placa de Vídeo Galax GeForce GTX 1060 6GB OC, 60NRH7DSL9OC\n",
      "Preço parcelado: 10x de R$ 159,09\n",
      "Preço à vista: à vista R$ 1.399,97\n",
      "\n",
      "\n",
      "Nome: Placa de Vídeo Galax GeForce GTX 1060 6GB EXOC White GDDR5 192Bit, 60NRH7DVM3VW\n",
      "Preço parcelado: 10x de R$ 164,66\n",
      "Preço à vista: à vista R$ 1.448,98\n",
      "\n",
      "\n",
      "Nome: Placa de Vídeo Galax Geforce GTX 1070 EX 8GB GDDR5 256Bit, 70NSH6DHL4XE\n",
      "Preço parcelado: 10x de R$ 248,18\n",
      "Preço à vista: à vista R$ 2.183,98\n",
      "\n",
      "\n",
      "Nome: Placa de Vídeo Gigabyte GeForce GTX 1060 Mini ITX OC 6GB, GV-N1060IXOC-6GD\n",
      "Preço parcelado: 10x de R$ 159,09\n",
      "Preço à vista: à vista R$ 1.399,97\n",
      "\n",
      "\n",
      "Nome: Placa de Vídeo Gigabyte GeForce GTX 1050 2GB OC GDDR5 128Bit, GV-N1050OC-2GD\n",
      "Preço parcelado: 10x de R$ 79,54\n",
      "Preço à vista: à vista R$ 699,98\n",
      "\n",
      "\n",
      "Nome: Placa de Vídeo Gigabyte GeForce GTX 1060 6GB Windforce , GV-N1060WF2OC-6GD\n",
      "Preço parcelado: 10x de R$ 174,88\n",
      "Preço à vista: à vista R$ 1.538,98\n",
      "\n",
      "\n",
      "Nome: Placa de Vídeo Gigabyte GeForce GTX 1080 8GB Windforce OC, GV-N1080WF3OC-8GD\n",
      "Preço parcelado: 10x de R$ 312,50\n",
      "Preço à vista: à vista R$ 2.749,96\n",
      "\n",
      "\n",
      "Nome: Placa de Vídeo Gigabyte GeForce GTX 1050 Low Profile 2GB OC GDDR5 128Bit, GV-N1050OC-2GL\n",
      "Preço parcelado: 10x de R$ 78,41\n",
      "Preço à vista: à vista R$ 689,99\n",
      "\n",
      "\n",
      "Nome: Placa de Video PNY Quadro P1000 4GB GDDR5 128bit 640 Cuda Cores, VCQP1000-PORPB\n",
      "Preço parcelado: 10x de R$ 182,82\n",
      "Preço à vista: à vista R$ 1.608,83\n",
      "\n",
      "\n",
      "Nome: Placa De Vídeo Sapphire Pulse RADEON RX 580 8GB GDDR5 256 Bits, 11265-05-20G\n",
      "Preço parcelado: 10x de R$ 146,36\n",
      "Preço à vista: à vista R$ 1.287,99\n",
      "\n",
      "\n",
      "Nome: Placa de Vídeo MSI GEFORCE GTX 1060 IGAMER 6G OC 192Bits GDDR5\n",
      "Preço parcelado: 10x de R$ 153,29\n",
      "Preço à vista: à vista R$ 1.348,99\n",
      "\n",
      "\n",
      "Nome: Placa de Video PNY Quadro P2000 5GB GDDR5 160bits 1024 Cuda Cores, VCQP2000-PORPB\n",
      "Preço parcelado: 10x de R$ 265,28\n",
      "Preço à vista: à vista R$ 2.334,47\n",
      "\n",
      "\n",
      "Nome: Placa De Vídeo GIGABYTE Radeon RX560 GamingOC 4GB GDDR5 128Bits, GV-RX560GAMINGOC-4GD\n",
      "Preço parcelado: 10x de R$ 94,48\n",
      "Preço à vista: à vista R$ 831,44\n",
      "\n",
      "\n",
      "Nome: Placa de Video Galax Geforce GT 710 2Gb DDR3 71GPH4HXJ4FN\n",
      "Preço parcelado: 10x de R$ 25,67\n",
      "Preço à vista: à vista R$ 225,90\n",
      "\n",
      "\n",
      "Nome: Placa de Vídeo EVGA Geforce GT 640 SC 1GB GDDR5, 01G-P3-2642-KR\n",
      "Preço parcelado: 10x de R$ 43,17\n",
      "Preço à vista: à vista R$ 379,91\n",
      "\n",
      "\n"
     ]
    }
   ],
   "source": [
    "for container in containers:\n",
    "    produto = container.h4.a[\"title\"]\n",
    "    parcelas = container.findAll(\"span\", {\"class\":\"valor\"})[0].text\n",
    "    preco_vista = container.findAll(\"span\", {\"class\":\"valor\"})[1].text\n",
    "    \n",
    "    print(\"Nome: \" + produto)\n",
    "    print(\"Preço parcelado: \" + parcelas)\n",
    "    print(\"Preço à vista: \" + preco_vista)\n",
    "    print(\"\\n\")\n",
    "    \n",
    "    f.write(produto.replace(\",\", \"¦\") + \",\" + parcelas.replace(\",\", \".\") + \",\" + preco_vista.replace(\",\",\".\") + \"\\n\")"
   ]
  },
  {
   "cell_type": "markdown",
   "metadata": {},
   "source": [
    "## Fecha o arquivo .csv para que ele possa ser lido."
   ]
  },
  {
   "cell_type": "code",
   "execution_count": 55,
   "metadata": {},
   "outputs": [],
   "source": [
    "f.close()"
   ]
  }
 ],
 "metadata": {
  "kernelspec": {
   "display_name": "Python 3",
   "language": "python",
   "name": "python3"
  },
  "language_info": {
   "codemirror_mode": {
    "name": "ipython",
    "version": 3
   },
   "file_extension": ".py",
   "mimetype": "text/x-python",
   "name": "python",
   "nbconvert_exporter": "python",
   "pygments_lexer": "ipython3",
   "version": "3.6.5"
  }
 },
 "nbformat": 4,
 "nbformat_minor": 2
}
